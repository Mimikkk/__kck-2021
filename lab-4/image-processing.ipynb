{
 "cells": [
  {
   "cell_type": "code",
   "execution_count": null,
   "metadata": {},
   "outputs": [],
   "source": [
    "%matplotlib inline\n",
    "from matplotlib.pyplot import imshow\n",
    "import skimage.io as io\n",
    "from pylab import *\n",
    "import skimage\n",
    "from skimage import data, filters, exposure, feature\n",
    "from skimage.filters import rank\n",
    "from skimage.util.dtype import convert\n",
    "from skimage import img_as_float, img_as_ubyte\n",
    "from skimage.color import rgb2hsv, hsv2rgb, rgb2gray\n",
    "from skimage.filters.edges import convolve\n",
    "from matplotlib import pylab as plt  \n",
    "import numpy as np\n",
    "from numpy import array\n",
    "from IPython.display import display\n",
    "from ipywidgets import interact, interactive, fixed\n",
    "from IPython.core.display import clear_output\n",
    "\n",
    "import warnings\n",
    "warnings.simplefilter(\"ignore\")"
   ]
  },
  {
   "cell_type": "code",
   "execution_count": null,
   "metadata": {},
   "outputs": [],
   "source": [
    "def show_gray(img):\n",
    "    imshow(img, cmap='gray')"
   ]
  },
  {
   "cell_type": "markdown",
   "metadata": {},
   "source": [
    "# Reprezentacja obrazów"
   ]
  },
  {
   "cell_type": "code",
   "execution_count": null,
   "metadata": {},
   "outputs": [],
   "source": [
    "coins = data.coins()\n",
    "show_gray(coins)"
   ]
  },
  {
   "cell_type": "code",
   "execution_count": null,
   "metadata": {},
   "outputs": [],
   "source": [
    "coins"
   ]
  },
  {
   "cell_type": "code",
   "execution_count": null,
   "metadata": {},
   "outputs": [],
   "source": [
    "type(coins)"
   ]
  },
  {
   "cell_type": "code",
   "execution_count": null,
   "metadata": {},
   "outputs": [],
   "source": [
    "coins.shape"
   ]
  },
  {
   "cell_type": "code",
   "execution_count": null,
   "metadata": {},
   "outputs": [],
   "source": [
    "coins[20:30, 10:-10] = 255\n",
    "coins[::10, ::10] = 255\n",
    "show_gray(coins)"
   ]
  },
  {
   "cell_type": "code",
   "execution_count": null,
   "metadata": {},
   "outputs": [],
   "source": [
    "chelsa = data.chelsea()\n",
    "imshow(chelsa)"
   ]
  },
  {
   "cell_type": "code",
   "execution_count": null,
   "metadata": {},
   "outputs": [],
   "source": [
    "chelsa.shape"
   ]
  },
  {
   "cell_type": "code",
   "execution_count": null,
   "metadata": {},
   "outputs": [],
   "source": [
    "chelsa[:4,:4,:]"
   ]
  },
  {
   "cell_type": "code",
   "execution_count": null,
   "metadata": {},
   "outputs": [],
   "source": [
    "tmp = rgb2hsv(chelsa)\n",
    "tmp[:,:,1] = 0\n",
    "tmp = hsv2rgb(tmp)\n",
    "imshow(tmp)"
   ]
  },
  {
   "cell_type": "code",
   "execution_count": null,
   "metadata": {},
   "outputs": [],
   "source": [
    "@interact(x=(0.0, 1.0, 0.01))\n",
    "def on_change(x=0):\n",
    "    tmp = rgb2hsv(chelsa)\n",
    "    tmp[:,:,0] = x\n",
    "    display(imshow(hsv2rgb(tmp)))"
   ]
  },
  {
   "cell_type": "code",
   "execution_count": null,
   "metadata": {},
   "outputs": [],
   "source": [
    "tmp = rgb2gray(chelsa)\n",
    "display(imshow(tmp, cmap='gray'))"
   ]
  },
  {
   "cell_type": "code",
   "execution_count": null,
   "metadata": {},
   "outputs": [],
   "source": [
    "rgb2gray??"
   ]
  },
  {
   "cell_type": "markdown",
   "metadata": {},
   "source": [
    "## Inne operacje macierzowe"
   ]
  },
  {
   "cell_type": "code",
   "execution_count": null,
   "metadata": {},
   "outputs": [],
   "source": [
    "# Odbicie lustrzane\n",
    "imshow(chelsa[:,::-1])"
   ]
  },
  {
   "cell_type": "code",
   "execution_count": null,
   "metadata": {},
   "outputs": [],
   "source": [
    "# Swap axes 0 and 1 (do not chagne 2)\n",
    "imshow(chelsa.transpose(1, 0, 2))"
   ]
  },
  {
   "cell_type": "code",
   "execution_count": null,
   "metadata": {},
   "outputs": [],
   "source": [
    "# Wycięcie\n",
    "imshow(chelsa[200:300,200:300])"
   ]
  },
  {
   "cell_type": "code",
   "execution_count": null,
   "metadata": {},
   "outputs": [],
   "source": [
    "# Proste statystyki\n",
    "coins = data.coins()\n",
    "display(show_gray(coins))\n",
    "np.mean(coins), np.std(coins)"
   ]
  },
  {
   "cell_type": "markdown",
   "metadata": {},
   "source": [
    "# Proste przetwarzanie"
   ]
  },
  {
   "cell_type": "markdown",
   "metadata": {},
   "source": [
    "### Histogram"
   ]
  },
  {
   "cell_type": "code",
   "execution_count": null,
   "metadata": {},
   "outputs": [],
   "source": [
    "def plot_hist(img):\n",
    "    img = img_as_ubyte(img)\n",
    "    histo, x = np.histogram(img, range(0, 256), density=True)\n",
    "    plot(histo)\n",
    "    xlim(0, 255)\n",
    "    \n",
    "plot_hist(data.coins())"
   ]
  },
  {
   "cell_type": "markdown",
   "metadata": {},
   "source": [
    "## Operacje punktowe"
   ]
  },
  {
   "cell_type": "code",
   "execution_count": null,
   "metadata": {},
   "outputs": [],
   "source": [
    "# B[i,j] = g(A[i,j]) dla każdego i,j\n",
    "show_gray(255-coins)"
   ]
  },
  {
   "cell_type": "code",
   "execution_count": null,
   "metadata": {},
   "outputs": [],
   "source": [
    "# Co się dzieje z histogramami?\n",
    "figure(figsize=(15,5))\n",
    "subplot(1,2,1); plot_hist(coins)\n",
    "subplot(1,2,2); plot_hist(255-coins)"
   ]
  },
  {
   "cell_type": "code",
   "execution_count": null,
   "metadata": {},
   "outputs": [],
   "source": [
    "thresh = 120\n",
    "binary = (coins > thresh) * 255\n",
    "binary = np.uint8(binary) # unit64 => unit8\n",
    "show_gray(binary)"
   ]
  },
  {
   "cell_type": "code",
   "execution_count": null,
   "metadata": {},
   "outputs": [],
   "source": [
    "# Normalizacja\n",
    "img = data.moon()\n",
    "figure(figsize=(15,5))\n",
    "subplot(1,2,1); show_gray(img)\n",
    "subplot(1,2,2); plot_hist(img)"
   ]
  },
  {
   "cell_type": "code",
   "execution_count": null,
   "metadata": {},
   "outputs": [],
   "source": [
    "img = img_as_float(data.moon())\n",
    "MIN = 100 / 256\n",
    "MAX = 125 / 256\n",
    "\n",
    "norm = (img - MIN) / (MAX - MIN)\n",
    "norm[norm > 1] = 1\n",
    "norm[norm < 0] = 0\n",
    "\n",
    "figure(figsize=(15,5))\n",
    "subplot(1,2,1); show_gray(norm)\n",
    "subplot(1,2,2); plot_hist(norm)"
   ]
  },
  {
   "cell_type": "code",
   "execution_count": null,
   "metadata": {},
   "outputs": [],
   "source": [
    "img = img_as_float(data.moon())\n",
    "@interact(perc=(0,10,0.1))\n",
    "def on_change(perc=0.0):\n",
    "    MIN = np.percentile(img, perc)\n",
    "    MAX = np.percentile(img, 100-perc)\n",
    "\n",
    "    norm = (img - MIN) / (MAX - MIN)\n",
    "    norm[norm[:,:] > 1] = 1\n",
    "    norm[norm[:,:] < 0] = 0\n",
    "    \n",
    "    fig = figure(figsize=(15,5))\n",
    "    subplot(1,2,1); show_gray(norm)\n",
    "    subplot(1,2,2); plot_hist(norm)"
   ]
  },
  {
   "cell_type": "code",
   "execution_count": null,
   "metadata": {},
   "outputs": [],
   "source": [
    "# Operacje punktowe można wygodnie wyświetlić\n",
    "def identity(v):\n",
    "    return v\n",
    "\n",
    "def negate(v):\n",
    "    return 255-v\n",
    "\n",
    "def get_thresh(th):\n",
    "    def thresh(v):\n",
    "        return 255*(v>th)\n",
    "    return thresh\n",
    "\n",
    "def plot_point_op(fun):\n",
    "    xlim(-5, 260)\n",
    "    ylim(-5, 260)\n",
    "    plot([fun(v) for v in np.arange(0,256)])\n",
    "    \n",
    "figure(figsize=(15,4))\n",
    "subplot(2,2,1); plot_point_op(identity)\n",
    "subplot(2,2,2); plot_point_op(negate)\n",
    "subplot(2,2,3); plot_point_op(get_thresh(64))\n",
    "subplot(2,2,4); plot_point_op(get_thresh(128))"
   ]
  },
  {
   "cell_type": "code",
   "execution_count": null,
   "metadata": {},
   "outputs": [],
   "source": [
    "# Krzywa gamma\n",
    "img = img_as_float(data.coins())\n",
    "\n",
    "show_gray(img**0.7)"
   ]
  },
  {
   "cell_type": "code",
   "execution_count": null,
   "metadata": {},
   "outputs": [],
   "source": [
    "img = img_as_float(data.coins())\n",
    "\n",
    "def get_gamma_fun(g):\n",
    "    def gamma(v):\n",
    "        return 255*((v/255)**g)\n",
    "    return gamma\n",
    "\n",
    "@interact(gamma=(0,10,0.1))\n",
    "def on_change(gamma=1.0):\n",
    "    tmp = img ** gamma\n",
    "    \n",
    "    figure(figsize=(15,5))\n",
    " \n",
    "    subplot(1,3,1); show_gray(tmp)\n",
    "    subplot(1,3,2); plot_hist(tmp)\n",
    "    subplot(1,3,3); plot_point_op(get_gamma_fun(gamma))"
   ]
  },
  {
   "cell_type": "code",
   "execution_count": null,
   "metadata": {},
   "outputs": [],
   "source": [
    "coins = img_as_float(data.coins())\n",
    "figure()\n",
    "plot_point_op(get_gamma_fun(0.3))\n",
    "plot_point_op(get_gamma_fun(0.5))\n",
    "plot_point_op(get_gamma_fun(1.0))\n",
    "plot_point_op(get_gamma_fun(4))\n",
    "legend((0.3, 0.5, 1.0, 4), loc='best')\n",
    "figure(figsize=(10,10))\n",
    "subplot(2,2,1); title('gamma = 0.3'); show_gray(coins**0.3)\n",
    "subplot(2,2,2); title('gamma = 0.5'); show_gray(coins**0.5)\n",
    "subplot(2,2,3); title('gamma = 1.0'); show_gray(coins**1.0)\n",
    "subplot(2,2,4); title('gamma = 4.0'); show_gray(coins**4.0)"
   ]
  },
  {
   "cell_type": "markdown",
   "metadata": {},
   "source": [
    "## Konwolucja (splot)"
   ]
  },
  {
   "cell_type": "code",
   "execution_count": null,
   "metadata": {},
   "outputs": [],
   "source": [
    "figure(figsize=(15,15))\n",
    "imshow(io.imread('img/convolution.png'))"
   ]
  },
  {
   "cell_type": "markdown",
   "metadata": {},
   "source": [
    "## Filtry"
   ]
  },
  {
   "cell_type": "code",
   "execution_count": null,
   "metadata": {},
   "outputs": [],
   "source": [
    "img = data.page()\n",
    "img = img_as_float(img)\n",
    "show_gray(img)"
   ]
  },
  {
   "cell_type": "code",
   "execution_count": null,
   "metadata": {},
   "outputs": [],
   "source": [
    "from skimage.filters.edges import convolve\n",
    "\n",
    "K = ones([13,13])\n",
    "K = K / sum(K)\n",
    "res = convolve(img, K)\n",
    "show_gray(res)\n",
    "# Co będzie jeśli zastosujemy wielokrotnie?"
   ]
  },
  {
   "cell_type": "code",
   "execution_count": null,
   "metadata": {},
   "outputs": [],
   "source": [
    "cam = img_as_float(data.camera())\n",
    "show_gray(cam)"
   ]
  },
  {
   "cell_type": "code",
   "execution_count": null,
   "metadata": {},
   "outputs": [],
   "source": [
    "K = array([[ 1, 2, 1],\n",
    "           [ 0, 0, 0],\n",
    "           [-1,-2,-1]])\n",
    "K = K / 4                       # Dlaczego przez 4?\n",
    "res = abs(convolve(cam, K))  # Dlaczego abs?\n",
    "show_gray(res**0.5)"
   ]
  },
  {
   "cell_type": "code",
   "execution_count": null,
   "metadata": {},
   "outputs": [],
   "source": [
    "img = zeros([6,6])\n",
    "img[2,:] = 1\n",
    "img[:,2] = 1\n",
    "figure(figsize=(8,8))\n",
    "show_gray(img)"
   ]
  },
  {
   "cell_type": "code",
   "execution_count": null,
   "metadata": {},
   "outputs": [],
   "source": [
    "K = array([[ 1, 2, 1],\n",
    "           [ 0, 0, 0],\n",
    "           [ -1,-2,-1]])\n",
    "K = K / 4\n",
    "res = abs(convolve(img, K))\n",
    "figure(figsize=(8,8))\n",
    "show_gray(res)"
   ]
  },
  {
   "cell_type": "code",
   "execution_count": null,
   "metadata": {},
   "outputs": [],
   "source": [
    "K = array([[ 1, 2, 1],\n",
    "           [ 0, 0, 0],\n",
    "           [-1,-2,-1]])\n",
    "K = K / 8\n",
    "res = abs(convolve(cam, K))\n",
    "figure(figsize=(8,8))\n",
    "show_gray(res**0.7)"
   ]
  },
  {
   "cell_type": "code",
   "execution_count": null,
   "metadata": {},
   "outputs": [],
   "source": [
    "img = zeros([6,6])\n",
    "img[2,:] = 1\n",
    "img[:,2] = 1\n",
    "figure(figsize=(8,8))\n",
    "show_gray(img)"
   ]
  },
  {
   "cell_type": "code",
   "execution_count": null,
   "metadata": {},
   "outputs": [],
   "source": [
    "K = array([[ 1, 0,-1],\n",
    "           [ 2, 0,-2],\n",
    "           [ 1, 0,-1]])\n",
    "\n",
    "K = K / 4\n",
    "res = abs(convolve(img, K))\n",
    "figure(figsize=(8,8))\n",
    "show_gray(res)"
   ]
  },
  {
   "cell_type": "code",
   "execution_count": null,
   "metadata": {},
   "outputs": [],
   "source": [
    "figure(figsize=(16,8))\n",
    "subplot(1,2,1); imshow(img, cmap='gray')\n",
    "\n",
    "Kh = array([[ 1, 2, 1],\n",
    "            [ 0, 0, 0],\n",
    "            [-1,-2,-1]]) / 4\n",
    "Kv = array([[ 1, 0,-1],\n",
    "            [ 2, 0,-2],\n",
    "            [ 1, 0,-1]]) / 4\n",
    "\n",
    "hor = abs(convolve(img, Kh))\n",
    "ver = abs(convolve(img, Kv))\n",
    "\n",
    "res = np.sqrt(hor + ver)\n",
    "\n",
    "res = np.clip(res, a_min=0.0, a_max=1.0)\n",
    "\n",
    "subplot(1,2,2); show_gray(res)"
   ]
  },
  {
   "cell_type": "code",
   "execution_count": null,
   "metadata": {},
   "outputs": [],
   "source": [
    "# Inne filtry wykrywające krawędzie: Roberts, Previtt\n",
    "K = array([[ 1,  0],\n",
    "           [ 0, -1]])\n",
    "\n",
    "K = array([[ 1,  1,  0],\n",
    "           [ 1,  0, -1],\n",
    "           [ 0, -1, -1]])\n",
    "K = K / 2                       \n",
    "res = abs(convolve(cam, K))\n",
    "show_gray(res**0.5)"
   ]
  },
  {
   "cell_type": "markdown",
   "metadata": {},
   "source": [
    "## Używając skimage"
   ]
  },
  {
   "cell_type": "code",
   "execution_count": null,
   "metadata": {},
   "outputs": [],
   "source": [
    "figure(figsize=(30,30))\n",
    "subplot(1,3,1); show_gray(abs(filters.sobel_v(cam))**0.5)\n",
    "subplot(1,3,2); show_gray(abs(filters.sobel_h(cam))**0.5)\n",
    "subplot(1,3,3); show_gray(filters.sobel(cam)**0.5)"
   ]
  },
  {
   "cell_type": "code",
   "execution_count": null,
   "metadata": {},
   "outputs": [],
   "source": [
    "figure(figsize=(20,20))\n",
    "subplot(1,2,1); show_gray(data.coins())\n",
    "subplot(1,2,2); show_gray(filters.sobel(data.coins()))"
   ]
  },
  {
   "cell_type": "markdown",
   "metadata": {},
   "source": [
    "## Odszumianie"
   ]
  },
  {
   "cell_type": "code",
   "execution_count": null,
   "metadata": {},
   "outputs": [],
   "source": [
    "img = data.camera()\n",
    "noise = np.random.random(img.shape)\n",
    "img = img_as_ubyte(data.camera())\n",
    "img[noise > 0.99] = 255\n",
    "img[noise < 0.01] = 0\n",
    "show_gray(img)"
   ]
  },
  {
   "cell_type": "code",
   "execution_count": null,
   "metadata": {},
   "outputs": [],
   "source": [
    "show_gray(filters.rank.mean(img, ones([3,3], dtype=uint8)))"
   ]
  },
  {
   "cell_type": "code",
   "execution_count": null,
   "metadata": {},
   "outputs": [],
   "source": [
    "figure(figsize=(20,20))\n",
    "subplot(1,2,1)\n",
    "imshow(io.imread('https://upload.wikimedia.org/wikipedia/commons/thumb/3/3e/Gaussian_2d.svg/500px-Gaussian_2d.svg.png'))\n",
    "subplot(1,2,2)\n",
    "imshow(io.imread('http://4.bp.blogspot.com/_qEs9r36R5kw/S63QM-0V6kI/AAAAAAAAArY/9AQI1izF9Wk/s320/Picture+2.png'))"
   ]
  },
  {
   "cell_type": "code",
   "execution_count": null,
   "metadata": {},
   "outputs": [],
   "source": [
    "import scipy\n",
    "show_gray(scipy.ndimage.gaussian_filter(img, sigma=3))"
   ]
  },
  {
   "cell_type": "code",
   "execution_count": null,
   "metadata": {},
   "outputs": [],
   "source": [
    "imshow(io.imread('http://tracer.lcc.uma.es/problems/mfp/MedianFilter.jpg'))"
   ]
  },
  {
   "cell_type": "code",
   "execution_count": null,
   "metadata": {},
   "outputs": [],
   "source": [
    "show_gray(filters.rank.median(img, ones([3,3],dtype=uint8)))"
   ]
  },
  {
   "cell_type": "markdown",
   "metadata": {},
   "source": [
    "## Filtr Canny"
   ]
  },
  {
   "cell_type": "code",
   "execution_count": null,
   "metadata": {},
   "outputs": [],
   "source": [
    "img = img_as_float(io.imread('img/noisy.png'))\n",
    "figure(figsize=(20,20))\n",
    "subplot(1,3,1)\n",
    "show_gray(img**0.5)\n",
    "subplot(1,3,2)\n",
    "show_gray(filters.sobel(img)**0.5)\n",
    "subplot(1,3,3)\n",
    "show_gray(skimage.feature.canny(img, sigma=3))"
   ]
  }
 ],
 "metadata": {
  "kernelspec": {
   "display_name": "Python 3",
   "language": "python",
   "name": "python3"
  },
  "language_info": {
   "codemirror_mode": {
    "name": "ipython",
    "version": 3
   },
   "file_extension": ".py",
   "mimetype": "text/x-python",
   "name": "python",
   "nbconvert_exporter": "python",
   "pygments_lexer": "ipython3",
   "version": "3.6.9"
  },
  "latex_envs": {
   "LaTeX_envs_menu_present": true,
   "autoclose": false,
   "autocomplete": true,
   "bibliofile": "biblio.bib",
   "cite_by": "apalike",
   "current_citInitial": 1,
   "eqLabelWithNumbers": true,
   "eqNumInitial": 1,
   "hotkeys": {
    "equation": "Ctrl-E",
    "itemize": "Ctrl-I"
   },
   "labels_anchors": false,
   "latex_user_defs": false,
   "report_style_numbering": false,
   "user_envs_cfg": false
  }
 },
 "nbformat": 4,
 "nbformat_minor": 4
}
